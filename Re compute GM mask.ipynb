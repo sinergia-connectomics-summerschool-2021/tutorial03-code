{
 "cells": [
  {
   "cell_type": "code",
   "execution_count": 6,
   "metadata": {},
   "outputs": [],
   "source": [
    "import os\n",
    "import nibabel as nib"
   ]
  },
  {
   "cell_type": "code",
   "execution_count": 8,
   "metadata": {},
   "outputs": [],
   "source": [
    "bids_dir = os.path.join('/home', 'sinergiasummerschool', 'Data', 'ds003505')\n",
    "derivatives_dir = os.path.join(bids_dir, 'derivatives', 'cmp', 'sub-01', 'anat')\n",
    "parc_img = nib.load(os.path.join(derivatives_dir, 'sub-01_atlas-L2018_res-scale1_dseg.nii.gz'))\n",
    "parc_data = parc_img.get_fdata()"
   ]
  },
  {
   "cell_type": "code",
   "execution_count": 12,
   "metadata": {},
   "outputs": [],
   "source": [
    "gm_data = parc_data.copy()\n",
    "gm_data[parc_data==83] = 0 # brainstem\n",
    "gm_data[parc_data==35] = 0 # deep GM\n",
    "gm_data[parc_data==36] = 0 # deep GM\n",
    "gm_data[parc_data==37] = 0 # deep GM\n",
    "gm_data[parc_data==38] = 0 # deep GM\n",
    "gm_data[parc_data==76] = 0 # deep GM\n",
    "gm_data[parc_data==77] = 0 # deep GM\n",
    "gm_data[parc_data==78] = 0 # deep GM\n",
    "gm_data[parc_data==79] = 0 # deep GM\n",
    "gm_data[gm_data>0] = 1 # Binarize\n",
    "\n",
    "new_parc_img = nib.Nifti1Image(gm_data, parc_img.affine, parc_img.header)\n",
    "out_dir = os.path.join(bids_dir, 'derivatives', 'eeg_preprocessing', 'sub-01', 'anat')\n",
    "os.makedirs(out_dir)\n",
    "out_img_path = os.path.join(out_dir, 'sub-01_label-GM_dseg.nii.gz')\n",
    "nib.save(new_parc_img, out_img_path)"
   ]
  },
  {
   "cell_type": "code",
   "execution_count": null,
   "metadata": {},
   "outputs": [],
   "source": [
    "[]"
   ]
  },
  {
   "cell_type": "markdown",
   "metadata": {},
   "source": [
    "# "
   ]
  }
 ],
 "metadata": {
  "kernelspec": {
   "display_name": "Python 3",
   "language": "python",
   "name": "python3"
  },
  "language_info": {
   "codemirror_mode": {
    "name": "ipython",
    "version": 3
   },
   "file_extension": ".py",
   "mimetype": "text/x-python",
   "name": "python",
   "nbconvert_exporter": "python",
   "pygments_lexer": "ipython3",
   "version": "3.7.9"
  }
 },
 "nbformat": 4,
 "nbformat_minor": 4
}
